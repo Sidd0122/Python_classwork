{
 "cells": [
  {
   "cell_type": "markdown",
   "id": "5b20af98",
   "metadata": {},
   "source": [
    "# Practice your variables!\n",
    "Course: BBA 108-Essentials of Computing & Coding\n",
    "\n",
    "Submission date: Sunday (19/09/21), 11:59 p.m.\n",
    "\n",
    "Hey everyone! This is a practice bonus assignment worth 10 points. I **highly** encourage all of you to do this.\n",
    "\n",
    "Please contact the following **on Slack** if there are any questions or issues:\n",
    "\n",
    "- @Shourya Watwani \n",
    "- @Vanshika Raj \n",
    "- @Aryan Gupta \n",
    "\n",
    "Thank you! Happy coding :)\n"
   ]
  },
  {
   "cell_type": "code",
   "execution_count": null,
   "id": "d7643d51",
   "metadata": {},
   "outputs": [],
   "source": [
    "# Create and print a variable to tell us your name."
   ]
  },
  {
   "cell_type": "code",
   "execution_count": 1,
   "id": "d6105d77",
   "metadata": {},
   "outputs": [
    {
     "name": "stdout",
     "output_type": "stream",
     "text": [
      "My name is Siddhant Oswal\n"
     ]
    }
   ],
   "source": [
    "my_name = \"Siddhant Oswal\"\n",
    "print(\"My name is \" + my_name)"
   ]
  },
  {
   "cell_type": "code",
   "execution_count": null,
   "id": "a48e84de",
   "metadata": {},
   "outputs": [],
   "source": [
    "# Create and print a variable to tell us your age."
   ]
  },
  {
   "cell_type": "code",
   "execution_count": 8,
   "id": "1e05a96c",
   "metadata": {},
   "outputs": [
    {
     "name": "stdout",
     "output_type": "stream",
     "text": [
      "my age is 18\n"
     ]
    }
   ],
   "source": [
    "my_age = 18\n",
    "print(\"my age is\",my_age)"
   ]
  },
  {
   "cell_type": "code",
   "execution_count": null,
   "id": "fb242ec5",
   "metadata": {},
   "outputs": [],
   "source": [
    "# Create and print a variable to tell us how many times you've taken a trip within India."
   ]
  },
  {
   "cell_type": "code",
   "execution_count": 9,
   "id": "3bfccbac",
   "metadata": {},
   "outputs": [
    {
     "name": "stdout",
     "output_type": "stream",
     "text": [
      "i have taken 30 trips in india\n"
     ]
    }
   ],
   "source": [
    "trips_in_india = 30\n",
    "print(\"i have taken\", trips_in_india,\"trips in india\")"
   ]
  },
  {
   "cell_type": "code",
   "execution_count": null,
   "id": "ac849402",
   "metadata": {},
   "outputs": [],
   "source": [
    "# Create and print a variable to tell us how many times you've taken a trip outside India."
   ]
  },
  {
   "cell_type": "code",
   "execution_count": 11,
   "id": "2a7e0d74",
   "metadata": {},
   "outputs": [
    {
     "name": "stdout",
     "output_type": "stream",
     "text": [
      "i have taken 3 trips outside india\n"
     ]
    }
   ],
   "source": [
    "trips_outside_india = 3\n",
    "print(\"i have taken\",trips_outside_india,\"trips outside india\")"
   ]
  },
  {
   "cell_type": "code",
   "execution_count": 3,
   "id": "bf7668ee",
   "metadata": {},
   "outputs": [],
   "source": [
    "# Create and print a variable to calculate the total number of trips you've taken."
   ]
  },
  {
   "cell_type": "code",
   "execution_count": 13,
   "id": "70ac4a8a",
   "metadata": {},
   "outputs": [
    {
     "name": "stdout",
     "output_type": "stream",
     "text": [
      "i have taken trips 33 in total\n"
     ]
    }
   ],
   "source": [
    "total_trips = 33\n",
    "print(\"i have taken trips\",total_trips,\"in total\")"
   ]
  },
  {
   "cell_type": "code",
   "execution_count": 14,
   "id": "52224f94",
   "metadata": {},
   "outputs": [],
   "source": [
    "# Create and print a variable to tell us total number of trips you've taken, using the numeric value in a sentence."
   ]
  },
  {
   "cell_type": "code",
   "execution_count": 15,
   "id": "fdbb402e",
   "metadata": {},
   "outputs": [
    {
     "name": "stdout",
     "output_type": "stream",
     "text": [
      "i have taken trips 33 in total\n"
     ]
    }
   ],
   "source": [
    "print(\"i have taken trips\",total_trips,\"in total\")"
   ]
  },
  {
   "cell_type": "code",
   "execution_count": 6,
   "id": "612c68f3",
   "metadata": {},
   "outputs": [],
   "source": [
    "# Create and print a variable to tell us whether the statement-\n",
    "# -\"I have taken more trips within India than outside India\" is true or false using boolean variables."
   ]
  },
  {
   "cell_type": "code",
   "execution_count": 16,
   "id": "30901ebf",
   "metadata": {},
   "outputs": [
    {
     "data": {
      "text/plain": [
       "True"
      ]
     },
     "execution_count": 16,
     "metadata": {},
     "output_type": "execute_result"
    }
   ],
   "source": [
    "more_trips = trips_in_india > trips_outside_india\n",
    "more_trips"
   ]
  },
  {
   "cell_type": "code",
   "execution_count": 17,
   "id": "aaee2c68",
   "metadata": {},
   "outputs": [],
   "source": [
    "# Create and print a variable to calculate the average number of trips you've taken in a year using-\n",
    "# your total number of trips and your age."
   ]
  },
  {
   "cell_type": "code",
   "execution_count": 18,
   "id": "2f66c236",
   "metadata": {},
   "outputs": [
    {
     "data": {
      "text/plain": [
       "1.8333333333333333"
      ]
     },
     "execution_count": 18,
     "metadata": {},
     "output_type": "execute_result"
    }
   ],
   "source": [
    "average_trips = total_trips/my_age\n",
    "average_trips"
   ]
  },
  {
   "cell_type": "code",
   "execution_count": null,
   "id": "810f16f4",
   "metadata": {},
   "outputs": [],
   "source": [
    "# Create and print a variable to tell us average number of trips you've taken, using the numeric value in a sentence."
   ]
  },
  {
   "cell_type": "code",
   "execution_count": 19,
   "id": "a280ed33",
   "metadata": {},
   "outputs": [
    {
     "name": "stdout",
     "output_type": "stream",
     "text": [
      "i have taken an average of 1.8333333333333333 trips\n"
     ]
    }
   ],
   "source": [
    "print(\"i have taken an average of\",average_trips,\"trips\")"
   ]
  },
  {
   "cell_type": "code",
   "execution_count": null,
   "id": "1fb204c1",
   "metadata": {},
   "outputs": [],
   "source": []
  }
 ],
 "metadata": {
  "kernelspec": {
   "display_name": "Python 3",
   "language": "python",
   "name": "python3"
  },
  "language_info": {
   "codemirror_mode": {
    "name": "ipython",
    "version": 3
   },
   "file_extension": ".py",
   "mimetype": "text/x-python",
   "name": "python",
   "nbconvert_exporter": "python",
   "pygments_lexer": "ipython3",
   "version": "3.8.8"
  }
 },
 "nbformat": 4,
 "nbformat_minor": 5
}
